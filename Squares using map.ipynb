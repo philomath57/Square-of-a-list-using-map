{
 "cells": [
  {
   "cell_type": "code",
   "execution_count": 3,
   "id": "5f6f3a64",
   "metadata": {},
   "outputs": [
    {
     "name": "stdout",
     "output_type": "stream",
     "text": [
      "Normal list is  [4, 5, 7, 9]\n",
      "New list is  [16, 25, 49, 81]\n"
     ]
    }
   ],
   "source": [
    "l = [4,5,7,9]\n",
    "print('Normal list is ',l)\n",
    "res = map(lambda x: x**2, l)\n",
    "print('New list is ',list(res))"
   ]
  },
  {
   "cell_type": "code",
   "execution_count": null,
   "id": "88ddff6e",
   "metadata": {},
   "outputs": [],
   "source": []
  }
 ],
 "metadata": {
  "kernelspec": {
   "display_name": "Python 3 (ipykernel)",
   "language": "python",
   "name": "python3"
  },
  "language_info": {
   "codemirror_mode": {
    "name": "ipython",
    "version": 3
   },
   "file_extension": ".py",
   "mimetype": "text/x-python",
   "name": "python",
   "nbconvert_exporter": "python",
   "pygments_lexer": "ipython3",
   "version": "3.9.7"
  }
 },
 "nbformat": 4,
 "nbformat_minor": 5
}
